{
 "cells": [
  {
   "cell_type": "markdown",
   "id": "e13230e3",
   "metadata": {},
   "source": [
    "# Test document\n",
    "## 1. let's start\n",
    "This is a test document!"
   ]
  },
  {
   "cell_type": "code",
   "execution_count": 1,
   "id": "84249936",
   "metadata": {},
   "outputs": [
    {
     "name": "stdout",
     "output_type": "stream",
     "text": [
      "hello, sage.all!\n",
      "sage.arith.misc.kronecker(3, 5)=-1\n"
     ]
    }
   ],
   "source": [
    "from sage.all import *\n",
    "print(\"hello, sage.all!\")\n",
    "print(f\"{sage.arith.misc.kronecker(3, 5)=}\")"
   ]
  },
  {
   "cell_type": "markdown",
   "id": "1c50a416",
   "metadata": {},
   "source": [
    "## 2. suddenly death\n",
    "omg"
   ]
  }
 ],
 "metadata": {
  "jupytext": {
   "cell_metadata_filter": "-all",
   "formats": "md:myst",
   "text_representation": {
    "extension": ".md",
    "format_name": "myst",
    "format_version": 0.13,
    "jupytext_version": "1.14.6"
   }
  },
  "kernelspec": {
   "display_name": "Python 3 (ipykernel)",
   "language": "python",
   "name": "python3"
  },
  "language_info": {
   "codemirror_mode": {
    "name": "ipython",
    "version": 3
   },
   "file_extension": ".py",
   "mimetype": "text/x-python",
   "name": "python",
   "nbconvert_exporter": "python",
   "pygments_lexer": "ipython3",
   "version": "3.10.5"
  },
  "source_map": [
   14,
   20,
   24
  ]
 },
 "nbformat": 4,
 "nbformat_minor": 5
}